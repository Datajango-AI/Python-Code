{
 "cells": [
  {
   "cell_type": "code",
   "execution_count": 1,
   "metadata": {},
   "outputs": [],
   "source": [
    "import numpy as np\n",
    "import pandas as pd\n",
    "import matplotlib.pyplot as plt\n",
    "%matplotlib inline\n",
    "import seaborn as sns"
   ]
  },
  {
   "cell_type": "code",
   "execution_count": 2,
   "metadata": {},
   "outputs": [],
   "source": [
    "import mysql.connector"
   ]
  },
  {
   "cell_type": "code",
   "execution_count": 3,
   "metadata": {},
   "outputs": [],
   "source": [
    "pd.set_option('display.max_rows', 100)\n",
    "pd.set_option('display.max_columns', 100)\n",
    "pd.set_option('display.width', 1000)"
   ]
  },
  {
   "cell_type": "code",
   "execution_count": 5,
   "metadata": {},
   "outputs": [],
   "source": [
    "conn = mysql.connector.connect(user='root', password='admin',\n",
    "                              host='localhost', database='marketops',\n",
    "                              auth_plugin='mysql_native_password')"
   ]
  },
  {
   "cell_type": "code",
   "execution_count": 52,
   "metadata": {},
   "outputs": [],
   "source": [
    "myCursor = conn.cursor()"
   ]
  },
  {
   "cell_type": "code",
   "execution_count": 53,
   "metadata": {},
   "outputs": [],
   "source": [
    "myCursor.execute(\"select V.ID,VSP.CURRENT_PRICE,VSP.OPENING,VSP.HIGH,VSP.LOW,VSP.CLOSING,VSP.VOLUME,\\\n",
    "                 VSP.SNAPSHOT_TIME,VFD.PREV_CLOSING,VFD.DAY_CHANGE,VFD.P_52_WEEK_RANGE,VFD.MARKET_CAP\\\n",
    "                 from vendor V inner join vendor_stock_price VSP on V.ID = VSP.VENDOR_ID \\\n",
    "                 inner join vendor_product_category VPC on VSP.VENDOR_ID = VPC.VENDOR_ID \\\n",
    "                 inner join vendor_financials_daily VFD on VPC.VENDOR_ID = VFD.VENDOR_ID \\\n",
    "                 where (VSP.CLOSING is not null) and V.ID = 2127 \\\n",
    "                 group by V.ID,VSP.CURRENT_PRICE,VSP.OPENING,VSP.HIGH,VSP.LOW,VSP.CLOSING,\\\n",
    "                 VSP.VOLUME,VSP.SNAPSHOT_TIME,VFD.PREV_CLOSING,VFD.DAY_CHANGE,VFD.P_52_WEEK_RANGE,VFD.MARKET_CAP\")\n",
    "\n",
    "vendor_stock_price_data = myCursor.fetchall()\n",
    "vendor_stock_price_df = pd.DataFrame(vendor_stock_price_data)\n",
    "\n",
    "column_names = [i[0] for i in myCursor.description]\n",
    "\n",
    "vendor_stock_price_df.columns = column_names"
   ]
  },
  {
   "cell_type": "code",
   "execution_count": 54,
   "metadata": {},
   "outputs": [
    {
     "data": {
      "text/plain": [
       "4464"
      ]
     },
     "execution_count": 54,
     "metadata": {},
     "output_type": "execute_result"
    }
   ],
   "source": [
    "len(vendor_stock_price_df)"
   ]
  },
  {
   "cell_type": "code",
   "execution_count": 55,
   "metadata": {},
   "outputs": [],
   "source": [
    "vendor_stock_price_df.to_csv(\"stock_price.csv\")"
   ]
  },
  {
   "cell_type": "code",
   "execution_count": 10,
   "metadata": {},
   "outputs": [
    {
     "data": {
      "text/plain": [
       "Index(['ID', 'CURRENT_PRICE', 'OPENING', 'HIGH', 'LOW', 'CLOSING', 'VOLUME', 'SNAPSHOT_TIME', 'PREV_CLOSING', 'DAY_CHANGE', 'P_52_WEEK_RANGE', 'MARKET_CAP'], dtype='object')"
      ]
     },
     "execution_count": 10,
     "metadata": {},
     "output_type": "execute_result"
    }
   ],
   "source": [
    "vendor_stock_price_df.columns"
   ]
  },
  {
   "cell_type": "code",
   "execution_count": 11,
   "metadata": {},
   "outputs": [
    {
     "data": {
      "text/html": [
       "<div>\n",
       "<style scoped>\n",
       "    .dataframe tbody tr th:only-of-type {\n",
       "        vertical-align: middle;\n",
       "    }\n",
       "\n",
       "    .dataframe tbody tr th {\n",
       "        vertical-align: top;\n",
       "    }\n",
       "\n",
       "    .dataframe thead th {\n",
       "        text-align: right;\n",
       "    }\n",
       "</style>\n",
       "<table border=\"1\" class=\"dataframe\">\n",
       "  <thead>\n",
       "    <tr style=\"text-align: right;\">\n",
       "      <th></th>\n",
       "      <th>ID</th>\n",
       "      <th>CURRENT_PRICE</th>\n",
       "      <th>OPENING</th>\n",
       "      <th>HIGH</th>\n",
       "      <th>LOW</th>\n",
       "      <th>CLOSING</th>\n",
       "      <th>VOLUME</th>\n",
       "      <th>SNAPSHOT_TIME</th>\n",
       "      <th>PREV_CLOSING</th>\n",
       "      <th>DAY_CHANGE</th>\n",
       "      <th>P_52_WEEK_RANGE</th>\n",
       "      <th>MARKET_CAP</th>\n",
       "    </tr>\n",
       "  </thead>\n",
       "  <tbody>\n",
       "    <tr>\n",
       "      <th>0</th>\n",
       "      <td>2127</td>\n",
       "      <td>21.710</td>\n",
       "      <td>21.860</td>\n",
       "      <td>21.920</td>\n",
       "      <td>21.310</td>\n",
       "      <td>21.710</td>\n",
       "      <td>1360500</td>\n",
       "      <td>2012-03-30</td>\n",
       "      <td>34.980</td>\n",
       "      <td>+0.15</td>\n",
       "      <td>17.75%</td>\n",
       "      <td>5860000000.0000000000</td>\n",
       "    </tr>\n",
       "    <tr>\n",
       "      <th>1</th>\n",
       "      <td>2127</td>\n",
       "      <td>21.700</td>\n",
       "      <td>21.310</td>\n",
       "      <td>21.800</td>\n",
       "      <td>21.270</td>\n",
       "      <td>21.700</td>\n",
       "      <td>1225300</td>\n",
       "      <td>2012-03-29</td>\n",
       "      <td>34.980</td>\n",
       "      <td>+0.15</td>\n",
       "      <td>17.75%</td>\n",
       "      <td>5860000000.0000000000</td>\n",
       "    </tr>\n",
       "    <tr>\n",
       "      <th>2</th>\n",
       "      <td>2127</td>\n",
       "      <td>21.540</td>\n",
       "      <td>21.600</td>\n",
       "      <td>21.980</td>\n",
       "      <td>21.300</td>\n",
       "      <td>21.540</td>\n",
       "      <td>1206200</td>\n",
       "      <td>2012-03-28</td>\n",
       "      <td>34.980</td>\n",
       "      <td>+0.15</td>\n",
       "      <td>17.75%</td>\n",
       "      <td>5860000000.0000000000</td>\n",
       "    </tr>\n",
       "    <tr>\n",
       "      <th>3</th>\n",
       "      <td>2127</td>\n",
       "      <td>21.620</td>\n",
       "      <td>21.460</td>\n",
       "      <td>22.190</td>\n",
       "      <td>21.400</td>\n",
       "      <td>21.620</td>\n",
       "      <td>2199000</td>\n",
       "      <td>2012-03-27</td>\n",
       "      <td>34.980</td>\n",
       "      <td>+0.15</td>\n",
       "      <td>17.75%</td>\n",
       "      <td>5860000000.0000000000</td>\n",
       "    </tr>\n",
       "    <tr>\n",
       "      <th>4</th>\n",
       "      <td>2127</td>\n",
       "      <td>21.410</td>\n",
       "      <td>21.140</td>\n",
       "      <td>21.420</td>\n",
       "      <td>21.080</td>\n",
       "      <td>21.410</td>\n",
       "      <td>682900</td>\n",
       "      <td>2012-03-26</td>\n",
       "      <td>34.980</td>\n",
       "      <td>+0.15</td>\n",
       "      <td>17.75%</td>\n",
       "      <td>5860000000.0000000000</td>\n",
       "    </tr>\n",
       "  </tbody>\n",
       "</table>\n",
       "</div>"
      ],
      "text/plain": [
       "     ID CURRENT_PRICE OPENING    HIGH     LOW CLOSING   VOLUME SNAPSHOT_TIME PREV_CLOSING DAY_CHANGE P_52_WEEK_RANGE             MARKET_CAP\n",
       "0  2127        21.710  21.860  21.920  21.310  21.710  1360500    2012-03-30       34.980      +0.15          17.75%  5860000000.0000000000\n",
       "1  2127        21.700  21.310  21.800  21.270  21.700  1225300    2012-03-29       34.980      +0.15          17.75%  5860000000.0000000000\n",
       "2  2127        21.540  21.600  21.980  21.300  21.540  1206200    2012-03-28       34.980      +0.15          17.75%  5860000000.0000000000\n",
       "3  2127        21.620  21.460  22.190  21.400  21.620  2199000    2012-03-27       34.980      +0.15          17.75%  5860000000.0000000000\n",
       "4  2127        21.410  21.140  21.420  21.080  21.410   682900    2012-03-26       34.980      +0.15          17.75%  5860000000.0000000000"
      ]
     },
     "execution_count": 11,
     "metadata": {},
     "output_type": "execute_result"
    }
   ],
   "source": [
    "vendor_stock_price_df.head()"
   ]
  },
  {
   "cell_type": "code",
   "execution_count": 12,
   "metadata": {},
   "outputs": [],
   "source": [
    "vendor_stock_price_df[\"CURRENT_PRICE\"] = [float(row) for row in vendor_stock_price_df[\"CURRENT_PRICE\"]]"
   ]
  },
  {
   "cell_type": "code",
   "execution_count": 13,
   "metadata": {},
   "outputs": [],
   "source": [
    "vendor_stock_price_df[\"OPENING\"] = [float(row) for row in vendor_stock_price_df[\"OPENING\"]]"
   ]
  },
  {
   "cell_type": "code",
   "execution_count": 14,
   "metadata": {},
   "outputs": [],
   "source": [
    "vendor_stock_price_df[\"HIGH\"] = [float(row) for row in vendor_stock_price_df[\"HIGH\"]]"
   ]
  },
  {
   "cell_type": "code",
   "execution_count": 15,
   "metadata": {},
   "outputs": [],
   "source": [
    "vendor_stock_price_df[\"LOW\"] = [float(row) for row in vendor_stock_price_df[\"LOW\"]]"
   ]
  },
  {
   "cell_type": "code",
   "execution_count": 16,
   "metadata": {},
   "outputs": [],
   "source": [
    "vendor_stock_price_df[\"CLOSING\"] = [float(row) for row in vendor_stock_price_df[\"CLOSING\"]]"
   ]
  },
  {
   "cell_type": "code",
   "execution_count": 17,
   "metadata": {},
   "outputs": [],
   "source": [
    "vendor_stock_price_df[\"PREV_CLOSING\"] = [float(row) for row in vendor_stock_price_df[\"PREV_CLOSING\"]]"
   ]
  },
  {
   "cell_type": "code",
   "execution_count": 18,
   "metadata": {},
   "outputs": [],
   "source": [
    "vendor_stock_price_df['MARKET_CAP'] = pd.Series(vendor_stock_price_df['MARKET_CAP'], dtype = \"int64\")"
   ]
  },
  {
   "cell_type": "code",
   "execution_count": 19,
   "metadata": {},
   "outputs": [
    {
     "data": {
      "text/html": [
       "<div>\n",
       "<style scoped>\n",
       "    .dataframe tbody tr th:only-of-type {\n",
       "        vertical-align: middle;\n",
       "    }\n",
       "\n",
       "    .dataframe tbody tr th {\n",
       "        vertical-align: top;\n",
       "    }\n",
       "\n",
       "    .dataframe thead th {\n",
       "        text-align: right;\n",
       "    }\n",
       "</style>\n",
       "<table border=\"1\" class=\"dataframe\">\n",
       "  <thead>\n",
       "    <tr style=\"text-align: right;\">\n",
       "      <th></th>\n",
       "      <th>ID</th>\n",
       "      <th>CURRENT_PRICE</th>\n",
       "      <th>OPENING</th>\n",
       "      <th>HIGH</th>\n",
       "      <th>LOW</th>\n",
       "      <th>CLOSING</th>\n",
       "      <th>VOLUME</th>\n",
       "      <th>SNAPSHOT_TIME</th>\n",
       "      <th>PREV_CLOSING</th>\n",
       "      <th>DAY_CHANGE</th>\n",
       "      <th>P_52_WEEK_RANGE</th>\n",
       "      <th>MARKET_CAP</th>\n",
       "    </tr>\n",
       "  </thead>\n",
       "  <tbody>\n",
       "    <tr>\n",
       "      <th>0</th>\n",
       "      <td>2127</td>\n",
       "      <td>21.71</td>\n",
       "      <td>21.86</td>\n",
       "      <td>21.92</td>\n",
       "      <td>21.31</td>\n",
       "      <td>21.71</td>\n",
       "      <td>1360500</td>\n",
       "      <td>2012-03-30</td>\n",
       "      <td>34.98</td>\n",
       "      <td>+0.15</td>\n",
       "      <td>17.75%</td>\n",
       "      <td>5860000000</td>\n",
       "    </tr>\n",
       "    <tr>\n",
       "      <th>1</th>\n",
       "      <td>2127</td>\n",
       "      <td>21.70</td>\n",
       "      <td>21.31</td>\n",
       "      <td>21.80</td>\n",
       "      <td>21.27</td>\n",
       "      <td>21.70</td>\n",
       "      <td>1225300</td>\n",
       "      <td>2012-03-29</td>\n",
       "      <td>34.98</td>\n",
       "      <td>+0.15</td>\n",
       "      <td>17.75%</td>\n",
       "      <td>5860000000</td>\n",
       "    </tr>\n",
       "    <tr>\n",
       "      <th>2</th>\n",
       "      <td>2127</td>\n",
       "      <td>21.54</td>\n",
       "      <td>21.60</td>\n",
       "      <td>21.98</td>\n",
       "      <td>21.30</td>\n",
       "      <td>21.54</td>\n",
       "      <td>1206200</td>\n",
       "      <td>2012-03-28</td>\n",
       "      <td>34.98</td>\n",
       "      <td>+0.15</td>\n",
       "      <td>17.75%</td>\n",
       "      <td>5860000000</td>\n",
       "    </tr>\n",
       "    <tr>\n",
       "      <th>3</th>\n",
       "      <td>2127</td>\n",
       "      <td>21.62</td>\n",
       "      <td>21.46</td>\n",
       "      <td>22.19</td>\n",
       "      <td>21.40</td>\n",
       "      <td>21.62</td>\n",
       "      <td>2199000</td>\n",
       "      <td>2012-03-27</td>\n",
       "      <td>34.98</td>\n",
       "      <td>+0.15</td>\n",
       "      <td>17.75%</td>\n",
       "      <td>5860000000</td>\n",
       "    </tr>\n",
       "    <tr>\n",
       "      <th>4</th>\n",
       "      <td>2127</td>\n",
       "      <td>21.41</td>\n",
       "      <td>21.14</td>\n",
       "      <td>21.42</td>\n",
       "      <td>21.08</td>\n",
       "      <td>21.41</td>\n",
       "      <td>682900</td>\n",
       "      <td>2012-03-26</td>\n",
       "      <td>34.98</td>\n",
       "      <td>+0.15</td>\n",
       "      <td>17.75%</td>\n",
       "      <td>5860000000</td>\n",
       "    </tr>\n",
       "  </tbody>\n",
       "</table>\n",
       "</div>"
      ],
      "text/plain": [
       "     ID  CURRENT_PRICE  OPENING   HIGH    LOW  CLOSING   VOLUME SNAPSHOT_TIME  PREV_CLOSING DAY_CHANGE P_52_WEEK_RANGE  MARKET_CAP\n",
       "0  2127          21.71    21.86  21.92  21.31    21.71  1360500    2012-03-30         34.98      +0.15          17.75%  5860000000\n",
       "1  2127          21.70    21.31  21.80  21.27    21.70  1225300    2012-03-29         34.98      +0.15          17.75%  5860000000\n",
       "2  2127          21.54    21.60  21.98  21.30    21.54  1206200    2012-03-28         34.98      +0.15          17.75%  5860000000\n",
       "3  2127          21.62    21.46  22.19  21.40    21.62  2199000    2012-03-27         34.98      +0.15          17.75%  5860000000\n",
       "4  2127          21.41    21.14  21.42  21.08    21.41   682900    2012-03-26         34.98      +0.15          17.75%  5860000000"
      ]
     },
     "execution_count": 19,
     "metadata": {},
     "output_type": "execute_result"
    }
   ],
   "source": [
    "vendor_stock_price_df.head()"
   ]
  },
  {
   "cell_type": "code",
   "execution_count": 20,
   "metadata": {},
   "outputs": [],
   "source": [
    "vendor_stock_price_df[\"DAY_CHANGE\"] = [float(row) for row in vendor_stock_price_df[\"DAY_CHANGE\"]]"
   ]
  },
  {
   "cell_type": "code",
   "execution_count": 21,
   "metadata": {},
   "outputs": [],
   "source": [
    "vendor_stock_price_df[\"P_52_WEEK_RANGE\"] = [float(row.replace(\"%\",\"\")) for row in vendor_stock_price_df[\"P_52_WEEK_RANGE\"]]"
   ]
  },
  {
   "cell_type": "code",
   "execution_count": 22,
   "metadata": {},
   "outputs": [
    {
     "data": {
      "text/plain": [
       "ID                          int64\n",
       "CURRENT_PRICE             float64\n",
       "OPENING                   float64\n",
       "HIGH                      float64\n",
       "LOW                       float64\n",
       "CLOSING                   float64\n",
       "VOLUME                      int64\n",
       "SNAPSHOT_TIME      datetime64[ns]\n",
       "PREV_CLOSING              float64\n",
       "DAY_CHANGE                float64\n",
       "P_52_WEEK_RANGE           float64\n",
       "MARKET_CAP                  int64\n",
       "dtype: object"
      ]
     },
     "execution_count": 22,
     "metadata": {},
     "output_type": "execute_result"
    }
   ],
   "source": [
    "vendor_stock_price_df.dtypes"
   ]
  },
  {
   "cell_type": "code",
   "execution_count": 23,
   "metadata": {},
   "outputs": [
    {
     "data": {
      "text/plain": [
       "4464"
      ]
     },
     "execution_count": 23,
     "metadata": {},
     "output_type": "execute_result"
    }
   ],
   "source": [
    "len(vendor_stock_price_df[vendor_stock_price_df['CURRENT_PRICE'] - vendor_stock_price_df['CLOSING'] == 0])"
   ]
  },
  {
   "cell_type": "code",
   "execution_count": 24,
   "metadata": {},
   "outputs": [],
   "source": [
    "vendor_stock_price_df =vendor_stock_price_df.sort_values(by=['SNAPSHOT_TIME'])"
   ]
  },
  {
   "cell_type": "code",
   "execution_count": 25,
   "metadata": {},
   "outputs": [],
   "source": [
    "max_index = vendor_stock_price_df.shape[0]-1"
   ]
  },
  {
   "cell_type": "code",
   "execution_count": 26,
   "metadata": {},
   "outputs": [],
   "source": [
    "numbers = max_index*80//100"
   ]
  },
  {
   "cell_type": "code",
   "execution_count": 27,
   "metadata": {},
   "outputs": [],
   "source": [
    "train_indexs = np.linspace(start=0, stop=numbers, num=numbers, dtype=int)"
   ]
  },
  {
   "cell_type": "code",
   "execution_count": 28,
   "metadata": {},
   "outputs": [],
   "source": [
    "test_indexs = np.linspace(start=numbers+1, stop=max_index+1, num=(max_index-numbers)+1, dtype=int)"
   ]
  },
  {
   "cell_type": "code",
   "execution_count": 29,
   "metadata": {},
   "outputs": [],
   "source": [
    "train_df = vendor_stock_price_df.loc[train_indexs]\n",
    "train_df =train_df.sort_values(by=['SNAPSHOT_TIME'])"
   ]
  },
  {
   "cell_type": "code",
   "execution_count": 30,
   "metadata": {},
   "outputs": [
    {
     "name": "stderr",
     "output_type": "stream",
     "text": [
      "C:\\Users\\admin\\Anaconda3\\lib\\site-packages\\ipykernel_launcher.py:1: FutureWarning: \n",
      "Passing list-likes to .loc or [] with any missing label will raise\n",
      "KeyError in the future, you can use .reindex() as an alternative.\n",
      "\n",
      "See the documentation here:\n",
      "https://pandas.pydata.org/pandas-docs/stable/indexing.html#deprecate-loc-reindex-listlike\n",
      "  \"\"\"Entry point for launching an IPython kernel.\n"
     ]
    }
   ],
   "source": [
    "test_df = vendor_stock_price_df.loc[test_indexs]\n",
    "test_df =test_df.sort_values(by=['SNAPSHOT_TIME'])"
   ]
  },
  {
   "cell_type": "code",
   "execution_count": 31,
   "metadata": {},
   "outputs": [
    {
     "data": {
      "text/html": [
       "<div>\n",
       "<style scoped>\n",
       "    .dataframe tbody tr th:only-of-type {\n",
       "        vertical-align: middle;\n",
       "    }\n",
       "\n",
       "    .dataframe tbody tr th {\n",
       "        vertical-align: top;\n",
       "    }\n",
       "\n",
       "    .dataframe thead th {\n",
       "        text-align: right;\n",
       "    }\n",
       "</style>\n",
       "<table border=\"1\" class=\"dataframe\">\n",
       "  <thead>\n",
       "    <tr style=\"text-align: right;\">\n",
       "      <th></th>\n",
       "      <th>ID</th>\n",
       "      <th>CURRENT_PRICE</th>\n",
       "      <th>OPENING</th>\n",
       "      <th>HIGH</th>\n",
       "      <th>LOW</th>\n",
       "      <th>CLOSING</th>\n",
       "      <th>VOLUME</th>\n",
       "      <th>SNAPSHOT_TIME</th>\n",
       "      <th>PREV_CLOSING</th>\n",
       "      <th>DAY_CHANGE</th>\n",
       "      <th>P_52_WEEK_RANGE</th>\n",
       "      <th>MARKET_CAP</th>\n",
       "    </tr>\n",
       "  </thead>\n",
       "  <tbody>\n",
       "    <tr>\n",
       "      <th>3409</th>\n",
       "      <td>2127</td>\n",
       "      <td>16.85</td>\n",
       "      <td>16.8</td>\n",
       "      <td>17.12</td>\n",
       "      <td>16.62</td>\n",
       "      <td>16.85</td>\n",
       "      <td>1382800</td>\n",
       "      <td>2012-01-03</td>\n",
       "      <td>36.86</td>\n",
       "      <td>-1.34</td>\n",
       "      <td>34.65</td>\n",
       "      <td>5920000000</td>\n",
       "    </tr>\n",
       "    <tr>\n",
       "      <th>2293</th>\n",
       "      <td>2127</td>\n",
       "      <td>16.85</td>\n",
       "      <td>16.8</td>\n",
       "      <td>17.12</td>\n",
       "      <td>16.62</td>\n",
       "      <td>16.85</td>\n",
       "      <td>1382800</td>\n",
       "      <td>2012-01-03</td>\n",
       "      <td>36.65</td>\n",
       "      <td>0.23</td>\n",
       "      <td>38.80</td>\n",
       "      <td>6150000000</td>\n",
       "    </tr>\n",
       "    <tr>\n",
       "      <th>61</th>\n",
       "      <td>2127</td>\n",
       "      <td>16.85</td>\n",
       "      <td>16.8</td>\n",
       "      <td>17.12</td>\n",
       "      <td>16.62</td>\n",
       "      <td>16.85</td>\n",
       "      <td>1382800</td>\n",
       "      <td>2012-01-03</td>\n",
       "      <td>34.98</td>\n",
       "      <td>0.15</td>\n",
       "      <td>17.75</td>\n",
       "      <td>5860000000</td>\n",
       "    </tr>\n",
       "    <tr>\n",
       "      <th>1735</th>\n",
       "      <td>2127</td>\n",
       "      <td>16.85</td>\n",
       "      <td>16.8</td>\n",
       "      <td>17.12</td>\n",
       "      <td>16.62</td>\n",
       "      <td>16.85</td>\n",
       "      <td>1382800</td>\n",
       "      <td>2012-01-03</td>\n",
       "      <td>36.55</td>\n",
       "      <td>0.10</td>\n",
       "      <td>38.56</td>\n",
       "      <td>6110000000</td>\n",
       "    </tr>\n",
       "    <tr>\n",
       "      <th>2851</th>\n",
       "      <td>2127</td>\n",
       "      <td>16.85</td>\n",
       "      <td>16.8</td>\n",
       "      <td>17.12</td>\n",
       "      <td>16.62</td>\n",
       "      <td>16.85</td>\n",
       "      <td>1382800</td>\n",
       "      <td>2012-01-03</td>\n",
       "      <td>36.88</td>\n",
       "      <td>-0.02</td>\n",
       "      <td>38.73</td>\n",
       "      <td>6140000000</td>\n",
       "    </tr>\n",
       "  </tbody>\n",
       "</table>\n",
       "</div>"
      ],
      "text/plain": [
       "        ID  CURRENT_PRICE  OPENING   HIGH    LOW  CLOSING   VOLUME SNAPSHOT_TIME  PREV_CLOSING  DAY_CHANGE  P_52_WEEK_RANGE  MARKET_CAP\n",
       "3409  2127          16.85     16.8  17.12  16.62    16.85  1382800    2012-01-03         36.86       -1.34            34.65  5920000000\n",
       "2293  2127          16.85     16.8  17.12  16.62    16.85  1382800    2012-01-03         36.65        0.23            38.80  6150000000\n",
       "61    2127          16.85     16.8  17.12  16.62    16.85  1382800    2012-01-03         34.98        0.15            17.75  5860000000\n",
       "1735  2127          16.85     16.8  17.12  16.62    16.85  1382800    2012-01-03         36.55        0.10            38.56  6110000000\n",
       "2851  2127          16.85     16.8  17.12  16.62    16.85  1382800    2012-01-03         36.88       -0.02            38.73  6140000000"
      ]
     },
     "execution_count": 31,
     "metadata": {},
     "output_type": "execute_result"
    }
   ],
   "source": [
    "train_df.head()"
   ]
  },
  {
   "cell_type": "code",
   "execution_count": 32,
   "metadata": {},
   "outputs": [],
   "source": [
    "train_df.index = range(0,len(train_df))"
   ]
  },
  {
   "cell_type": "code",
   "execution_count": 33,
   "metadata": {},
   "outputs": [
    {
     "data": {
      "text/html": [
       "<div>\n",
       "<style scoped>\n",
       "    .dataframe tbody tr th:only-of-type {\n",
       "        vertical-align: middle;\n",
       "    }\n",
       "\n",
       "    .dataframe tbody tr th {\n",
       "        vertical-align: top;\n",
       "    }\n",
       "\n",
       "    .dataframe thead th {\n",
       "        text-align: right;\n",
       "    }\n",
       "</style>\n",
       "<table border=\"1\" class=\"dataframe\">\n",
       "  <thead>\n",
       "    <tr style=\"text-align: right;\">\n",
       "      <th></th>\n",
       "      <th>ID</th>\n",
       "      <th>CURRENT_PRICE</th>\n",
       "      <th>OPENING</th>\n",
       "      <th>HIGH</th>\n",
       "      <th>LOW</th>\n",
       "      <th>CLOSING</th>\n",
       "      <th>VOLUME</th>\n",
       "      <th>SNAPSHOT_TIME</th>\n",
       "      <th>PREV_CLOSING</th>\n",
       "      <th>DAY_CHANGE</th>\n",
       "      <th>P_52_WEEK_RANGE</th>\n",
       "      <th>MARKET_CAP</th>\n",
       "    </tr>\n",
       "  </thead>\n",
       "  <tbody>\n",
       "    <tr>\n",
       "      <th>0</th>\n",
       "      <td>2127</td>\n",
       "      <td>16.85</td>\n",
       "      <td>16.8</td>\n",
       "      <td>17.12</td>\n",
       "      <td>16.62</td>\n",
       "      <td>16.85</td>\n",
       "      <td>1382800</td>\n",
       "      <td>2012-01-03</td>\n",
       "      <td>36.86</td>\n",
       "      <td>-1.34</td>\n",
       "      <td>34.65</td>\n",
       "      <td>5920000000</td>\n",
       "    </tr>\n",
       "    <tr>\n",
       "      <th>1</th>\n",
       "      <td>2127</td>\n",
       "      <td>16.85</td>\n",
       "      <td>16.8</td>\n",
       "      <td>17.12</td>\n",
       "      <td>16.62</td>\n",
       "      <td>16.85</td>\n",
       "      <td>1382800</td>\n",
       "      <td>2012-01-03</td>\n",
       "      <td>36.65</td>\n",
       "      <td>0.23</td>\n",
       "      <td>38.80</td>\n",
       "      <td>6150000000</td>\n",
       "    </tr>\n",
       "    <tr>\n",
       "      <th>2</th>\n",
       "      <td>2127</td>\n",
       "      <td>16.85</td>\n",
       "      <td>16.8</td>\n",
       "      <td>17.12</td>\n",
       "      <td>16.62</td>\n",
       "      <td>16.85</td>\n",
       "      <td>1382800</td>\n",
       "      <td>2012-01-03</td>\n",
       "      <td>34.98</td>\n",
       "      <td>0.15</td>\n",
       "      <td>17.75</td>\n",
       "      <td>5860000000</td>\n",
       "    </tr>\n",
       "    <tr>\n",
       "      <th>3</th>\n",
       "      <td>2127</td>\n",
       "      <td>16.85</td>\n",
       "      <td>16.8</td>\n",
       "      <td>17.12</td>\n",
       "      <td>16.62</td>\n",
       "      <td>16.85</td>\n",
       "      <td>1382800</td>\n",
       "      <td>2012-01-03</td>\n",
       "      <td>36.55</td>\n",
       "      <td>0.10</td>\n",
       "      <td>38.56</td>\n",
       "      <td>6110000000</td>\n",
       "    </tr>\n",
       "    <tr>\n",
       "      <th>4</th>\n",
       "      <td>2127</td>\n",
       "      <td>16.85</td>\n",
       "      <td>16.8</td>\n",
       "      <td>17.12</td>\n",
       "      <td>16.62</td>\n",
       "      <td>16.85</td>\n",
       "      <td>1382800</td>\n",
       "      <td>2012-01-03</td>\n",
       "      <td>36.88</td>\n",
       "      <td>-0.02</td>\n",
       "      <td>38.73</td>\n",
       "      <td>6140000000</td>\n",
       "    </tr>\n",
       "  </tbody>\n",
       "</table>\n",
       "</div>"
      ],
      "text/plain": [
       "     ID  CURRENT_PRICE  OPENING   HIGH    LOW  CLOSING   VOLUME SNAPSHOT_TIME  PREV_CLOSING  DAY_CHANGE  P_52_WEEK_RANGE  MARKET_CAP\n",
       "0  2127          16.85     16.8  17.12  16.62    16.85  1382800    2012-01-03         36.86       -1.34            34.65  5920000000\n",
       "1  2127          16.85     16.8  17.12  16.62    16.85  1382800    2012-01-03         36.65        0.23            38.80  6150000000\n",
       "2  2127          16.85     16.8  17.12  16.62    16.85  1382800    2012-01-03         34.98        0.15            17.75  5860000000\n",
       "3  2127          16.85     16.8  17.12  16.62    16.85  1382800    2012-01-03         36.55        0.10            38.56  6110000000\n",
       "4  2127          16.85     16.8  17.12  16.62    16.85  1382800    2012-01-03         36.88       -0.02            38.73  6140000000"
      ]
     },
     "execution_count": 33,
     "metadata": {},
     "output_type": "execute_result"
    }
   ],
   "source": [
    "train_df.head()"
   ]
  },
  {
   "cell_type": "code",
   "execution_count": 34,
   "metadata": {},
   "outputs": [
    {
     "data": {
      "text/plain": [
       "ID                          int64\n",
       "CURRENT_PRICE             float64\n",
       "OPENING                   float64\n",
       "HIGH                      float64\n",
       "LOW                       float64\n",
       "CLOSING                   float64\n",
       "VOLUME                      int64\n",
       "SNAPSHOT_TIME      datetime64[ns]\n",
       "PREV_CLOSING              float64\n",
       "DAY_CHANGE                float64\n",
       "P_52_WEEK_RANGE           float64\n",
       "MARKET_CAP                  int64\n",
       "dtype: object"
      ]
     },
     "execution_count": 34,
     "metadata": {},
     "output_type": "execute_result"
    }
   ],
   "source": [
    "train_df.dtypes"
   ]
  },
  {
   "cell_type": "code",
   "execution_count": 35,
   "metadata": {},
   "outputs": [],
   "source": [
    "test_df.index = range(0,len(test_df))"
   ]
  },
  {
   "cell_type": "code",
   "execution_count": 36,
   "metadata": {
    "scrolled": true
   },
   "outputs": [
    {
     "data": {
      "text/html": [
       "<div>\n",
       "<style scoped>\n",
       "    .dataframe tbody tr th:only-of-type {\n",
       "        vertical-align: middle;\n",
       "    }\n",
       "\n",
       "    .dataframe tbody tr th {\n",
       "        vertical-align: top;\n",
       "    }\n",
       "\n",
       "    .dataframe thead th {\n",
       "        text-align: right;\n",
       "    }\n",
       "</style>\n",
       "<table border=\"1\" class=\"dataframe\">\n",
       "  <thead>\n",
       "    <tr style=\"text-align: right;\">\n",
       "      <th></th>\n",
       "      <th>ID</th>\n",
       "      <th>CURRENT_PRICE</th>\n",
       "      <th>OPENING</th>\n",
       "      <th>HIGH</th>\n",
       "      <th>LOW</th>\n",
       "      <th>CLOSING</th>\n",
       "      <th>VOLUME</th>\n",
       "      <th>SNAPSHOT_TIME</th>\n",
       "      <th>PREV_CLOSING</th>\n",
       "      <th>DAY_CHANGE</th>\n",
       "      <th>P_52_WEEK_RANGE</th>\n",
       "      <th>MARKET_CAP</th>\n",
       "    </tr>\n",
       "  </thead>\n",
       "  <tbody>\n",
       "    <tr>\n",
       "      <th>0</th>\n",
       "      <td>2127.0</td>\n",
       "      <td>16.85</td>\n",
       "      <td>16.80</td>\n",
       "      <td>17.12</td>\n",
       "      <td>16.62</td>\n",
       "      <td>16.85</td>\n",
       "      <td>1382800.0</td>\n",
       "      <td>2012-01-03</td>\n",
       "      <td>36.86</td>\n",
       "      <td>-1.34</td>\n",
       "      <td>31.36</td>\n",
       "      <td>5.920000e+09</td>\n",
       "    </tr>\n",
       "    <tr>\n",
       "      <th>1</th>\n",
       "      <td>2127.0</td>\n",
       "      <td>16.78</td>\n",
       "      <td>16.77</td>\n",
       "      <td>16.89</td>\n",
       "      <td>16.63</td>\n",
       "      <td>16.78</td>\n",
       "      <td>780100.0</td>\n",
       "      <td>2012-01-04</td>\n",
       "      <td>36.86</td>\n",
       "      <td>-1.34</td>\n",
       "      <td>31.36</td>\n",
       "      <td>5.920000e+09</td>\n",
       "    </tr>\n",
       "    <tr>\n",
       "      <th>2</th>\n",
       "      <td>2127.0</td>\n",
       "      <td>16.71</td>\n",
       "      <td>16.76</td>\n",
       "      <td>16.80</td>\n",
       "      <td>16.49</td>\n",
       "      <td>16.71</td>\n",
       "      <td>757900.0</td>\n",
       "      <td>2012-01-05</td>\n",
       "      <td>36.86</td>\n",
       "      <td>-1.34</td>\n",
       "      <td>31.36</td>\n",
       "      <td>5.920000e+09</td>\n",
       "    </tr>\n",
       "    <tr>\n",
       "      <th>3</th>\n",
       "      <td>2127.0</td>\n",
       "      <td>16.68</td>\n",
       "      <td>16.76</td>\n",
       "      <td>16.85</td>\n",
       "      <td>16.60</td>\n",
       "      <td>16.68</td>\n",
       "      <td>490300.0</td>\n",
       "      <td>2012-01-06</td>\n",
       "      <td>36.86</td>\n",
       "      <td>-1.34</td>\n",
       "      <td>31.36</td>\n",
       "      <td>5.920000e+09</td>\n",
       "    </tr>\n",
       "    <tr>\n",
       "      <th>4</th>\n",
       "      <td>2127.0</td>\n",
       "      <td>16.71</td>\n",
       "      <td>16.66</td>\n",
       "      <td>16.83</td>\n",
       "      <td>16.50</td>\n",
       "      <td>16.71</td>\n",
       "      <td>700600.0</td>\n",
       "      <td>2012-01-09</td>\n",
       "      <td>36.86</td>\n",
       "      <td>-1.34</td>\n",
       "      <td>31.36</td>\n",
       "      <td>5.920000e+09</td>\n",
       "    </tr>\n",
       "  </tbody>\n",
       "</table>\n",
       "</div>"
      ],
      "text/plain": [
       "       ID  CURRENT_PRICE  OPENING   HIGH    LOW  CLOSING     VOLUME SNAPSHOT_TIME  PREV_CLOSING  DAY_CHANGE  P_52_WEEK_RANGE    MARKET_CAP\n",
       "0  2127.0          16.85    16.80  17.12  16.62    16.85  1382800.0    2012-01-03         36.86       -1.34            31.36  5.920000e+09\n",
       "1  2127.0          16.78    16.77  16.89  16.63    16.78   780100.0    2012-01-04         36.86       -1.34            31.36  5.920000e+09\n",
       "2  2127.0          16.71    16.76  16.80  16.49    16.71   757900.0    2012-01-05         36.86       -1.34            31.36  5.920000e+09\n",
       "3  2127.0          16.68    16.76  16.85  16.60    16.68   490300.0    2012-01-06         36.86       -1.34            31.36  5.920000e+09\n",
       "4  2127.0          16.71    16.66  16.83  16.50    16.71   700600.0    2012-01-09         36.86       -1.34            31.36  5.920000e+09"
      ]
     },
     "execution_count": 36,
     "metadata": {},
     "output_type": "execute_result"
    }
   ],
   "source": [
    "test_df.head()"
   ]
  },
  {
   "cell_type": "code",
   "execution_count": 37,
   "metadata": {},
   "outputs": [
    {
     "name": "stderr",
     "output_type": "stream",
     "text": [
      "C:\\Users\\admin\\Anaconda3\\lib\\site-packages\\pandas\\plotting\\_converter.py:129: FutureWarning: Using an implicitly registered datetime converter for a matplotlib plotting method. The converter was registered by pandas on import. Future versions of pandas will require you to explicitly register matplotlib converters.\n",
      "\n",
      "To register the converters:\n",
      "\t>>> from pandas.plotting import register_matplotlib_converters\n",
      "\t>>> register_matplotlib_converters()\n",
      "  warnings.warn(msg, FutureWarning)\n"
     ]
    },
    {
     "data": {
      "text/plain": [
       "[<matplotlib.lines.Line2D at 0x1ccd2278f28>]"
      ]
     },
     "execution_count": 37,
     "metadata": {},
     "output_type": "execute_result"
    },
    {
     "data": {
      "image/png": "[encoded data removed]",
      "text/plain": [
       "<Figure size 432x288 with 1 Axes>"
      ]
     },
     "metadata": {
      "needs_background": "light"
     },
     "output_type": "display_data"
    }
   ],
   "source": [
    "plt.plot(train_df['SNAPSHOT_TIME'],train_df['CLOSING'])"
   ]
  },
  {
   "cell_type": "code",
   "execution_count": 38,
   "metadata": {},
   "outputs": [],
   "source": [
    "from sklearn.linear_model import LinearRegression\n",
    "from sklearn.preprocessing import StandardScaler\n",
    "X_Train = train_df[['OPENING','HIGH','LOW','VOLUME','PREV_CLOSING','DAY_CHANGE','MARKET_CAP','P_52_WEEK_RANGE']]\n",
    "y_Train = train_df['CLOSING']\n",
    "X_scaling = StandardScaler()\n",
    "y_scaling = StandardScaler()"
   ]
  },
  {
   "cell_type": "code",
   "execution_count": 39,
   "metadata": {},
   "outputs": [
    {
     "data": {
      "text/plain": [
       "numpy.ndarray"
      ]
     },
     "execution_count": 39,
     "metadata": {},
     "output_type": "execute_result"
    }
   ],
   "source": [
    "#y_Train = pd.DataFrame(y_Train)\n",
    "type(y_Train.values)"
   ]
  },
  {
   "cell_type": "code",
   "execution_count": 40,
   "metadata": {},
   "outputs": [
    {
     "name": "stderr",
     "output_type": "stream",
     "text": [
      "C:\\Users\\admin\\Anaconda3\\lib\\site-packages\\sklearn\\preprocessing\\data.py:645: DataConversionWarning: Data with input dtype int64, float64 were all converted to float64 by StandardScaler.\n",
      "  return self.partial_fit(X, y)\n",
      "C:\\Users\\admin\\Anaconda3\\lib\\site-packages\\sklearn\\base.py:464: DataConversionWarning: Data with input dtype int64, float64 were all converted to float64 by StandardScaler.\n",
      "  return self.fit(X, **fit_params).transform(X)\n"
     ]
    }
   ],
   "source": [
    "X_Train = X_scaling.fit_transform(X_Train)\n",
    "y_Train = y_scaling.fit_transform(y_Train.values.reshape(-1, 1))"
   ]
  },
  {
   "cell_type": "code",
   "execution_count": 41,
   "metadata": {},
   "outputs": [
    {
     "data": {
      "text/plain": [
       "LinearRegression(copy_X=True, fit_intercept=True, n_jobs=None,\n",
       "         normalize=False)"
      ]
     },
     "execution_count": 41,
     "metadata": {},
     "output_type": "execute_result"
    }
   ],
   "source": [
    "reg = LinearRegression()\n",
    "reg.fit(X_Train,y_Train)"
   ]
  },
  {
   "cell_type": "code",
   "execution_count": 42,
   "metadata": {},
   "outputs": [],
   "source": [
    "y_pred = reg.predict(X_Train)"
   ]
  },
  {
   "cell_type": "code",
   "execution_count": 43,
   "metadata": {},
   "outputs": [
    {
     "name": "stdout",
     "output_type": "stream",
     "text": [
      "[[-1.6995738 ]\n",
      " [-1.69921254]\n",
      " [-1.69920732]\n",
      " ...\n",
      " [ 1.14883994]\n",
      " [ 1.14880332]\n",
      " [ 1.14891488]]\n"
     ]
    }
   ],
   "source": [
    "print(y_pred)"
   ]
  },
  {
   "cell_type": "code",
   "execution_count": 44,
   "metadata": {},
   "outputs": [
    {
     "data": {
      "text/plain": [
       "0.9993169774353208"
      ]
     },
     "execution_count": 44,
     "metadata": {},
     "output_type": "execute_result"
    }
   ],
   "source": [
    "from sklearn.metrics import r2_score\n",
    "r2_score(y_Train, y_pred)"
   ]
  },
  {
   "cell_type": "code",
   "execution_count": 45,
   "metadata": {},
   "outputs": [],
   "source": [
    "import pickle"
   ]
  },
  {
   "cell_type": "code",
   "execution_count": 47,
   "metadata": {},
   "outputs": [],
   "source": [
    "pickle_out = open(\"marketOpsPickle.pkl\",\"wb\")\n",
    "pickle.dump(y_pred, pickle_out)\n",
    "pickle_out.close()"
   ]
  },
  {
   "cell_type": "code",
   "execution_count": null,
   "metadata": {},
   "outputs": [],
   "source": []
  }
 ],
 "metadata": {
  "kernelspec": {
   "display_name": "Python 3",
   "language": "python",
   "name": "python3"
  },
  "language_info": {
   "codemirror_mode": {
    "name": "ipython",
    "version": 3
   },
   "file_extension": ".py",
   "mimetype": "text/x-python",
   "name": "python",
   "nbconvert_exporter": "python",
   "pygments_lexer": "ipython3",
   "version": "3.7.3"
  }
 },
 "nbformat": 4,
 "nbformat_minor": 2
}
